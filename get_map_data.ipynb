{
 "cells": [
  {
   "cell_type": "code",
   "execution_count": 2,
   "id": "d05cb091-22a9-4dc9-9160-d201b4378b84",
   "metadata": {},
   "outputs": [],
   "source": [
    "from pygbif import occurrences as o\n"
   ]
  },
  {
   "cell_type": "code",
   "execution_count": 34,
   "id": "eb02604d-84b0-4753-a68f-7a23674af252",
   "metadata": {},
   "outputs": [
    {
     "name": "stdout",
     "output_type": "stream",
     "text": [
      "{'offset': 0, 'limit': 1, 'endOfRecords': False, 'count': 54192484, 'results': [{'key': 1101241838, 'datasetKey': 'dce8feb0-6c89-11de-8225-b8a03c50a862', 'publishingOrgKey': '770c30d2-c2a8-4bb2-8056-6167297cddae', 'networkKeys': ['99d66b6c-9087-452f-a9d4-f15f2c2d0e7e'], 'installationKey': '19893c10-381e-4534-9bb8-6c37d03ad29e', 'publishingCountry': 'AU', 'protocol': 'DWC_ARCHIVE', 'lastCrawled': '2022-01-27T16:29:47.342+00:00', 'lastParsed': '2022-01-30T13:59:51.800+00:00', 'crawlId': 268, 'hostingOrganizationKey': '3c5e4331-7f2f-4a8d-aa56-81ece7014fc8', 'extensions': {}, 'basisOfRecord': 'PRESERVED_SPECIMEN', 'occurrenceStatus': 'PRESENT', 'taxonKey': 3232829, 'kingdomKey': 6, 'phylumKey': 7707728, 'classKey': 196, 'orderKey': 1369, 'familyKey': 3073, 'genusKey': 2703864, 'acceptedTaxonKey': 2703864, 'scientificName': 'Chloropsis Kuntze', 'acceptedScientificName': 'Leptochloa P.Beauv.', 'kingdom': 'Plantae', 'phylum': 'Tracheophyta', 'order': 'Poales', 'family': 'Poaceae', 'genus': 'Leptochloa', 'genericName': 'Chloropsis', 'taxonRank': 'GENUS', 'taxonomicStatus': 'SYNONYM', 'decimalLongitude': 152.7, 'decimalLatitude': -25.533, 'coordinatePrecision': 0.001, 'coordinateUncertaintyInMeters': 10000.0, 'stateProvince': 'Queensland', 'issues': ['INSTITUTION_MATCH_FUZZY', 'INSTITUTION_COLLECTION_MISMATCH'], 'lastInterpreted': '2022-01-30T13:59:51.800+00:00', 'license': 'http://creativecommons.org/licenses/by/4.0/legalcode', 'identifiers': [], 'media': [], 'facts': [], 'relations': [], 'gadm': {'level0': {'gid': 'AUS', 'name': 'Australia'}, 'level1': {'gid': 'AUS.7_1', 'name': 'Queensland'}, 'level2': {'gid': 'AUS.7.26_1', 'name': 'Fraser Coast'}}, 'institutionKey': '9cfe8cbf-35ff-4d93-b932-cb05d91b7922', 'isInCluster': False, 'inCluster': False, 'geodeticDatum': 'WGS84', 'class': 'Liliopsida', 'countryCode': 'AU', 'recordedByIDs': [], 'identifiedByIDs': [], 'country': 'Australia', 'eventID': 'urn:australianmuseum.net.au:Events:3027987', 'identifier': '9fdcb5b2-e453-425e-a77c-e28a570c55b6', 'acceptedNameUsage': 'Chloropsis aurifrons', 'dynamicProperties': '{dcterms:type:PhysicalObject,dcterms:modified:2013/2/12,verbatimUncertainty:1km-10km}', 'http://unknown.org/taxonRankID': '6000', 'verbatimLocality': 'EX-CAGE', 'gbifID': '1101241838', 'collectionCode': 'Ornithology', 'occurrenceID': '9fdcb5b2-e453-425e-a77c-e28a570c55b6', 'recordedBy': 'Thom, George', 'catalogNumber': 'B.9143', 'otherCatalogNumbers': 'ecatalogue.irn:3010482; urn:catalog:AM:Ornithology:B.9143', 'locationRemarks': \"ecatalogue.LocCollectionEventLocal: Australia, EX-CAGE (25° 32' S, 152° 42' E), THOM, GEORGE(Collector), Accession;\", 'institutionCode': 'AM', 'taxonConceptID': 'https://id.biodiversity.org.au/name/apni/66289'}], 'facets': []}\n",
      "Leptochloa Poaceae GENUS\n"
     ]
    }
   ],
   "source": [
    "a = o.search(q='Poales', limit=1)\n",
    "print(a)\n",
    "r = a['results'][0]\n",
    "print(r['genus'], r['family'], r['taxonRank'])"
   ]
  },
  {
   "cell_type": "code",
   "execution_count": 32,
   "id": "9c301571-ed70-422c-930a-093fb74b8321",
   "metadata": {},
   "outputs": [
    {
     "name": "stdout",
     "output_type": "stream",
     "text": [
      "-25.533\n"
     ]
    }
   ],
   "source": [
    "c=o.search(taxonKey=b, limit=10)\n",
    "print(a['results'][0]['decimalLatitude'])"
   ]
  },
  {
   "cell_type": "code",
   "execution_count": 29,
   "id": "f9749420-521a-4339-9ca6-f39dc9156bab",
   "metadata": {},
   "outputs": [
    {
     "name": "stdout",
     "output_type": "stream",
     "text": [
      "Chloropsis kuntze 80.1 7.1\n",
      "Chloropsis kuntze 80.6 7.3\n",
      "Chloropsis kuntze 80.525691 7.278249\n",
      "Chloropsis kuntze 80.593456 7.249897\n",
      "Chloropsis kuntze 80.593456 7.249897\n",
      "Chloropsis kuntze 80.610955 7.251607\n",
      "Chloropsis kuntze 80.525897 7.278259\n",
      "Chloropsis kuntze 92.042013 26.886218\n",
      "Chloropsis kuntze 118.762397 9.781425\n",
      "Chloropsis kuntze 91.526763 26.910978\n"
     ]
    }
   ],
   "source": [
    "for i in c['results']:\n",
    "    print(i['scientificName'].capitalize(),i['decimalLongitude'], i['decimalLatitude'])"
   ]
  }
 ],
 "metadata": {
  "kernelspec": {
   "display_name": "Python 3 (ipykernel)",
   "language": "python",
   "name": "python3"
  },
  "language_info": {
   "codemirror_mode": {
    "name": "ipython",
    "version": 3
   },
   "file_extension": ".py",
   "mimetype": "text/x-python",
   "name": "python",
   "nbconvert_exporter": "python",
   "pygments_lexer": "ipython3",
   "version": "3.10.1"
  }
 },
 "nbformat": 4,
 "nbformat_minor": 5
}
