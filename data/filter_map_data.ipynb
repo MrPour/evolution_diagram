{
 "cells": [
  {
   "cell_type": "code",
   "execution_count": 11,
   "id": "69cdd86c-28bc-4894-bfd7-80d4785e26f3",
   "metadata": {},
   "outputs": [
    {
     "name": "stdout",
     "output_type": "stream",
     "text": [
      "[{'name': 'Acorus gramineus Aiton', 'value': [101.99014, 24.07, 154.23]}, {'name': 'Acorus gramineus Aiton', 'value': [115.89925, 28.68503, 154.23]}, {'name': 'Alisma plantago-aquatica subsp. orientale (Sam.) Sam.', 'value': [102.40126, 24.171921, 146.73]}, {'name': 'Limnocharis flava (L.) Buchenau', 'value': [100.80098, 22.005302, 146.73]}, {'name': 'Limnocharis flava (L.) Buchenau', 'value': [100.80098, 22.005302, 146.73]}, {'name': 'Sagittaria lichuanensis J.K.Chen, X.Z.Sun & H.Q.Wang', 'value': [114.4234, 30.54442, 146.73]}, {'name': 'Sagittaria montevidensis Cham. & Schltdl.', 'value': [114.4234, 30.54442, 146.73]}, {'name': 'Aponogeton abyssinicus Hochst. ex A.Rich.', 'value': [114.4234, 30.54442, 146.73]}, {'name': 'Aponogeton distachyos L.f.', 'value': [114.4234, 30.54442, 146.73]}, {'name': 'Lasia spinosa (L.) Thwaites', 'value': [101.561943, 21.450581, 146.73]}]\n",
      "2881 649\n"
     ]
    }
   ],
   "source": [
    "import json\n",
    "with open('map_data.json', 'r') as f:\n",
    "    a = json.load(f)\n",
    "new = []\n",
    "for i in a:\n",
    "    record = {'name': i['Species'], 'value': [i['lng'], i['lat'], i['time(-Mya)']]}\n",
    "    if record['value'][1] is not None:\n",
    "        new.append(record)\n",
    "    else:\n",
    "        pass\n",
    "print(new[:10])\n",
    "print(len(a), len(new))\n",
    "                                          "
   ]
  },
  {
   "cell_type": "code",
   "execution_count": 12,
   "id": "800de477-547c-45ca-94d8-0ea93a6d7e1a",
   "metadata": {},
   "outputs": [],
   "source": [
    "with open('map_data_few.json', 'w') as out:\n",
    "    json.dump(new, out, indent=4)"
   ]
  }
 ],
 "metadata": {
  "kernelspec": {
   "display_name": "Python 3 (ipykernel)",
   "language": "python",
   "name": "python3"
  },
  "language_info": {
   "codemirror_mode": {
    "name": "ipython",
    "version": 3
   },
   "file_extension": ".py",
   "mimetype": "text/x-python",
   "name": "python",
   "nbconvert_exporter": "python",
   "pygments_lexer": "ipython3",
   "version": "3.10.1"
  }
 },
 "nbformat": 4,
 "nbformat_minor": 5
}
