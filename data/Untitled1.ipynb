{
 "cells": [
  {
   "cell_type": "code",
   "execution_count": 7,
   "id": "aef9d6aa-f9d3-4e78-ba7d-5a591595144a",
   "metadata": {},
   "outputs": [],
   "source": [
    "import json\n",
    "result = []\n",
    "with open('map_data-new.csv', 'r',errors='surrogateescape') as f:\n",
    "    raw = f.readlines()\n",
    "for line in raw:\n",
    "    _, name, species, time, species, _, _, _, _, lon, lat = line.strip().split(',')\n",
    "    \n",
    "    new = {'name': name, \n",
    "           'species': species,\n",
    "           'time': time,\n",
    "           'value': [lon, lat, 1]}\n",
    "    result.append(new)\n",
    "with open('./map_data_new.json', 'w') as out:\n",
    "    json.dump(result, out, indent=4)\n",
    "                             "
   ]
  },
  {
   "cell_type": "code",
   "execution_count": null,
   "id": "52a4051e-1718-4dfd-93c9-de2a7a1426ff",
   "metadata": {},
   "outputs": [],
   "source": []
  }
 ],
 "metadata": {
  "kernelspec": {
   "display_name": "Python 3 (ipykernel)",
   "language": "python",
   "name": "python3"
  },
  "language_info": {
   "codemirror_mode": {
    "name": "ipython",
    "version": 3
   },
   "file_extension": ".py",
   "mimetype": "text/x-python",
   "name": "python",
   "nbconvert_exporter": "python",
   "pygments_lexer": "ipython3",
   "version": "3.10.1"
  }
 },
 "nbformat": 4,
 "nbformat_minor": 5
}
