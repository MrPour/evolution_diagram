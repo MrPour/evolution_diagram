{
 "cells": [
  {
   "cell_type": "code",
   "execution_count": 14,
   "id": "546e1655-156e-45da-9eba-bfef0ba6caf9",
   "metadata": {},
   "outputs": [],
   "source": [
    "# generate series\n",
    "import json\n",
    "\n",
    "with open('map_color-new.json', 'r', encoding='utf-8') as f:\n",
    "    old = json.load(f)\n"
   ]
  },
  {
   "cell_type": "code",
   "execution_count": 15,
   "id": "eed2f000-0a84-4c15-836f-ad1b526af9bb",
   "metadata": {},
   "outputs": [],
   "source": [
    "new = dict()\n",
    "for i in old:\n",
    "    name = i['name']\n",
    "    if name in new:\n",
    "        new[name]['data'].append(i)\n",
    "    else:\n",
    "        new[name] = {'data': [i, ]}\n",
    "    new[name]['color'] = i['color']\n",
    "    \n"
   ]
  },
  {
   "cell_type": "code",
   "execution_count": 16,
   "id": "22af7e85-e47a-4cc1-a2e8-208905396ef1",
   "metadata": {},
   "outputs": [],
   "source": [
    "with open('map_series.json', 'w', encoding='utf-8') as f:\n",
    "    json.dump(new, f, indent=4)\n"
   ]
  },
  {
   "cell_type": "code",
   "execution_count": 17,
   "id": "2c7f7167-fdeb-4912-8b68-4d25c663dca1",
   "metadata": {},
   "outputs": [],
   "source": [
    "shuzu = list(new.keys())\n",
    "with open('map_shuzu.json', 'w', encoding='utf-8') as f:\n",
    "    json.dump(shuzu ,f, indent=4)"
   ]
  }
 ],
 "metadata": {
  "kernelspec": {
   "display_name": "Python 3 (ipykernel)",
   "language": "python",
   "name": "python3"
  },
  "language_info": {
   "codemirror_mode": {
    "name": "ipython",
    "version": 3
   },
   "file_extension": ".py",
   "mimetype": "text/x-python",
   "name": "python",
   "nbconvert_exporter": "python",
   "pygments_lexer": "ipython3",
   "version": "3.10.1"
  }
 },
 "nbformat": 4,
 "nbformat_minor": 5
}
