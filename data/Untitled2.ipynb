{
 "cells": [
  {
   "cell_type": "code",
   "execution_count": 1,
   "id": "617e138f-137e-4af4-abcc-c474223c07cb",
   "metadata": {},
   "outputs": [],
   "source": [
    "import json\n",
    "with open('map_color-new.json', 'r', encoding='utf-8') as f:\n",
    "    raw = json.load(f)"
   ]
  },
  {
   "cell_type": "code",
   "execution_count": 3,
   "id": "2278bb75-6dfd-4a81-bd96-cb710c13781e",
   "metadata": {},
   "outputs": [
    {
     "name": "stdout",
     "output_type": "stream",
     "text": [
      "{'name': 'Cycadaceae', 'species': 'Cycas revoluta Thunb.', 'time': '-273.0', 'value': ['151.189789', '-33.832531', 1], 'timeline': -273, 'subtext': 'Timeline: 273  million years ago', 'subtext2': 'Cycadaceae', 'color': '#556B2F'}\n"
     ]
    }
   ],
   "source": [
    "print(raw[0])"
   ]
  },
  {
   "cell_type": "code",
   "execution_count": 8,
   "id": "13cf5615-cc6b-472f-becd-cecf18baaaaf",
   "metadata": {},
   "outputs": [],
   "source": [
    "new = dict()\n",
    "for index, record in enumerate(raw):\n",
    "    name = record['name']\n",
    "    r = {'value': index,\n",
    "         'label': name,\n",
    "         'color': record['color']}\n",
    "    if name not in new:\n",
    "        new[name] = r"
   ]
  },
  {
   "cell_type": "code",
   "execution_count": 14,
   "id": "24ded089-7dbf-4bb5-95b7-a5f211d6619f",
   "metadata": {},
   "outputs": [],
   "source": [
    "with open('map_index.json', 'w', encoding='utf-8') as f:\n",
    "    json.dump(list(new.values()), f, indent=4)\n"
   ]
  }
 ],
 "metadata": {
  "kernelspec": {
   "display_name": "Python 3 (ipykernel)",
   "language": "python",
   "name": "python3"
  },
  "language_info": {
   "codemirror_mode": {
    "name": "ipython",
    "version": 3
   },
   "file_extension": ".py",
   "mimetype": "text/x-python",
   "name": "python",
   "nbconvert_exporter": "python",
   "pygments_lexer": "ipython3",
   "version": "3.10.1"
  }
 },
 "nbformat": 4,
 "nbformat_minor": 5
}
