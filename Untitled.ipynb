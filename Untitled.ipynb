{
 "cells": [
  {
   "cell_type": "code",
   "execution_count": 13,
   "id": "2481f4f0-17fb-464b-9394-4fbbcb232977",
   "metadata": {},
   "outputs": [
    {
     "name": "stdout",
     "output_type": "stream",
     "text": [
      "{'name': 'Araucariaceae', 'species': 'Araucarites K.B.Presl', 'time': '-227.0', 'value': ['-108.71498', '-12.125833', 1]}\n"
     ]
    }
   ],
   "source": [
    "import json\n",
    "with open('data/map_data_new.json', 'r', encoding='utf-8') as f:\n",
    "    a = json.load(f)\n",
    "print(a[0])"
   ]
  },
  {
   "cell_type": "code",
   "execution_count": 15,
   "id": "06f42a79-a058-4a0d-8c2c-22311089a869",
   "metadata": {},
   "outputs": [],
   "source": [
    "new = []\n",
    "for i in a:\n",
    "    if not i['time'].startswith('-'):\n",
    "        print(i)\n",
    "        i['time'] = '-'+i['time']\n",
    "    new.append(i)\n",
    "with open('data/map_data_new.json', 'w',encoding='utf8') as f:\n",
    "    json.dump(new, f, indent=4)"
   ]
  }
 ],
 "metadata": {
  "kernelspec": {
   "display_name": "Python 3 (ipykernel)",
   "language": "python",
   "name": "python3"
  },
  "language_info": {
   "codemirror_mode": {
    "name": "ipython",
    "version": 3
   },
   "file_extension": ".py",
   "mimetype": "text/x-python",
   "name": "python",
   "nbconvert_exporter": "python",
   "pygments_lexer": "ipython3",
   "version": "3.10.1"
  }
 },
 "nbformat": 4,
 "nbformat_minor": 5
}
